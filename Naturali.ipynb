{
 "cells": [
  {
   "cell_type": "markdown",
   "metadata": {
    "collapsed": true
   },
   "source": [
    "For each problem, you are required to write your program in any\n",
    "language you like except pseudocode. And you should explain the\n",
    "complexity of your program.\n",
    " We highly recommend you to implement the function instead of\n",
    "entire program for each problem, and the function signature is up to you.\n",
    "But of course you can write entire program or more than one functions.\n",
    "Finally, please do not share the problems with anyone else. Thank\n",
    "you. "
   ]
  },
  {
   "cell_type": "markdown",
   "metadata": {},
   "source": [
    "## Question 1:\n",
    "1. Combine two strings a and b. The Combine function concatenates string\n",
    "a and b. But if the last char of a is the same as the first char of b, you\n",
    "should delete the same char, repeat delete operation until the last char of a\n",
    "is different from the first char of b. Then concatenates string a and b.\n",
    " Example:\n",
    " Combine(“abcdef”, “fedha”) = “abcha” "
   ]
  },
  {
   "cell_type": "code",
   "execution_count": 27,
   "metadata": {},
   "outputs": [],
   "source": [
    "a = \"abcdef\"\n",
    "b = \"fedha\"\n",
    "result = \"\""
   ]
  },
  {
   "cell_type": "code",
   "execution_count": 28,
   "metadata": {},
   "outputs": [],
   "source": [
    "def string_concat(a, b):\n",
    "    if a[-1] == b[0]:\n",
    "        a1 = a.rstrip(a[-1])\n",
    "        b1 = b.lstrip(b[0])\n",
    "        string_concat(a1, b1)\n",
    "    else:\n",
    "        result = a + b\n",
    "        print(result)\n",
    "        return result    "
   ]
  },
  {
   "cell_type": "code",
   "execution_count": 29,
   "metadata": {},
   "outputs": [
    {
     "name": "stdout",
     "output_type": "stream",
     "text": [
      "abcha\n"
     ]
    }
   ],
   "source": [
    "result = string_concat(a, b)"
   ]
  },
  {
   "cell_type": "markdown",
   "metadata": {},
   "source": [
    "Complexity of program above is O(n)"
   ]
  },
  {
   "cell_type": "markdown",
   "metadata": {},
   "source": [
    "## Question 2\n",
    "2. You are given an array of n integers (n>=2), a1, a2, …, an and an integer\n",
    "k. At the beginning, List L=[]. For every combination of ai and aj (i < j),\n",
    "min(ai, aj) is added to L. So there are n×(n-1)/2 numbers in L. Please find\n",
    "the k-th largest value of L. ( If possible, can you solve it with O(n) time\n",
    "complexity?) "
   ]
  },
  {
   "cell_type": "code",
   "execution_count": 34,
   "metadata": {},
   "outputs": [],
   "source": [
    "k = 3\n",
    "min_list = [3, 5, 6, 8, 1, 9, 2]"
   ]
  },
  {
   "cell_type": "code",
   "execution_count": 35,
   "metadata": {},
   "outputs": [],
   "source": [
    "def quickSort(num, l, r, sort_type=\"asc\"):\n",
    "    if l >= r:  # 如果只有一个数字时，结束递归\n",
    "        return\n",
    "\n",
    "    sortFlag = sort_type\n",
    "    flag = l  # 是L 不是1\n",
    "    # without r+1, the last value will not be included\n",
    "    for i in range(l + 1, r + 1):  # 以第一个数字作为基准，从第二个数开始比较\n",
    "        if sort_type == \"asc\":\n",
    "            if num[flag] > num[i]:\n",
    "                tmp = num[i]\n",
    "                del num[i]\n",
    "                num.insert(flag, tmp)\n",
    "                flag += 1\n",
    "        else:\n",
    "            if num[flag] < num[i]:\n",
    "                tmp = num[i]\n",
    "                del num[i]\n",
    "                num.insert(flag, tmp)\n",
    "                flag += 1\n",
    "\n",
    "    quickSort(num, l, flag - 1, sortFlag)  # 将基准的 前后部分分别递归排序\n",
    "    quickSort(num, flag + 1, r, sortFlag)"
   ]
  },
  {
   "cell_type": "code",
   "execution_count": 36,
   "metadata": {},
   "outputs": [
    {
     "name": "stdout",
     "output_type": "stream",
     "text": [
      "fast sort ascending results: [1, 2, 3, 5, 6, 8, 9]\nkth largest value is: 3\n"
     ]
    }
   ],
   "source": [
    "num = min_list\n",
    "quickSort(num, 0, len(num) - 1)\n",
    "print(\"fast sort ascending results:\", num)\n",
    "print(\"kth largest value is:\", num[k-1])"
   ]
  },
  {
   "cell_type": "markdown",
   "metadata": {},
   "source": [
    "## Question 3 ##\n",
    "3. You are given an array of n non-negative integers prices and an integer\n",
    "p. The i-th price represents the price of an apple on the i-th day. You can\n",
    "buy or sell an apple each day, and you can keep only one apple at most.\n",
    "What’s more, buying an apple will cost extra p dollars. Find the max profit\n",
    "you can get. ( If possible, can you solve it with O(n) time complexity?)\n",
    " Note: 0 <= price[i] <= 1000, 0 <= p <= 1000\n",
    " Example:\n",
    " Input: price = [0, 2, 1, 8, 4, 9], p = 2\n",
    " Output: 9\n",
    " Explanation:\n",
    " buy at price[0], sell at price[3], buy at price[4], sell at price[5]\n",
    " profit = (8-0-2)+(9-4-2) = 9"
   ]
  },
  {
   "cell_type": "code",
   "execution_count": 57,
   "metadata": {},
   "outputs": [],
   "source": [
    "time = [1, 2, 3, 4, 5, 6]\n",
    "price = [0, 2, 1, 8, 4, 9]\n",
    "p = 2 "
   ]
  },
  {
   "cell_type": "code",
   "execution_count": 58,
   "metadata": {},
   "outputs": [],
   "source": [
    "def two_list_quick_sort(list_price, list_tim, low, high):\n",
    "    if low > high:\n",
    "        return\n",
    "\n",
    "    flag = low\n",
    "    for i in range(low+1, high+1):\n",
    "        if list_price[flag] > list_price[i]:\n",
    "            tmp1 = list_price[i]\n",
    "            del list_price[i]\n",
    "            list_price.insert(flag, tmp1)\n",
    "\n",
    "            tmp = list_tim[i]\n",
    "            del list_tim[i]\n",
    "            list_tim.insert(flag, tmp)\n",
    "\n",
    "            flag += 1\n",
    "\n",
    "    two_list_quick_sort(list_price, list_tim, low, flag-1)\n",
    "    two_list_quick_sort(list_price, list_tim, flag+1, high)"
   ]
  },
  {
   "cell_type": "code",
   "execution_count": 59,
   "metadata": {},
   "outputs": [
    {
     "name": "stdout",
     "output_type": "stream",
     "text": [
      "-原始时间序列为： [1, 2, 3, 4, 5, 6] \n -原始牌价序列为： [0, 2, 1, 8, 4, 9]\n\n时间序列为： [1, 3, 2, 5, 4, 6] \n 牌价序列为： [0, 1, 2, 4, 8, 9]\n\n最佳买入时间（最低价）： 1\n最佳卖出时间（最高价）： 6\n\n价格最小值： 0 序列号为： 0\n价格最大值： 9 序列号为： 5\n"
     ]
    }
   ],
   "source": [
    "print(\"-原始时间序列为：\", time, \"\\n -原始牌价序列为：\", price)\n",
    "two_list_quick_sort(price, time, 0, len(time) - 1)\n",
    "print(\"\\n时间序列为：\", time, \"\\n 牌价序列为：\", price)\n",
    "print(\"\\n最佳买入时间（最低价）：\", time[0])\n",
    "print(\"最佳卖出时间（最高价）：\", time[len(time) - 1])\n",
    "print(\"\\n价格最小值：\", min(price), \"序列号为：\", price.index(min(price)))\n",
    "print(\"价格最大值：\", max(price), \"序列号为：\", price.index(max(price)))"
   ]
  },
  {
   "cell_type": "code",
   "execution_count": null,
   "metadata": {},
   "outputs": [],
   "source": [
    "# find best combination in time sequence\n"
   ]
  }
 ],
 "metadata": {
  "kernelspec": {
   "display_name": "Python 2",
   "language": "python",
   "name": "python2"
  },
  "language_info": {
   "codemirror_mode": {
    "name": "ipython",
    "version": 2
   },
   "file_extension": ".py",
   "mimetype": "text/x-python",
   "name": "python",
   "nbconvert_exporter": "python",
   "pygments_lexer": "ipython2",
   "version": "2.7.6"
  }
 },
 "nbformat": 4,
 "nbformat_minor": 0
}
